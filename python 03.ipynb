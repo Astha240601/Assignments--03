{
 "cells": [
  {
   "cell_type": "code",
   "execution_count": 3,
   "id": "836e316b",
   "metadata": {},
   "outputs": [
    {
     "name": "stdout",
     "output_type": "stream",
     "text": [
      "even number in the list: 4\n",
      "odd number in the list 5\n"
     ]
    }
   ],
   "source": [
    "#python program to count even and odd number in a list \n",
    "#list of number\n",
    "list1 =[1,2,3,4,5,6,7,8,9]\n",
    "even_count=0\n",
    "odd_count=0\n",
    "for num in list1:\n",
    "    if num%2==0:\n",
    "        even_count +=1\n",
    "    else:\n",
    "        odd_count +=1\n",
    "print (\"even number in the list:\", even_count)\n",
    "print(\"odd number in the list\",odd_count)"
   ]
  },
  {
   "cell_type": "code",
   "execution_count": null,
   "id": "ceed4b8f",
   "metadata": {},
   "outputs": [],
   "source": []
  },
  {
   "cell_type": "code",
   "execution_count": null,
   "id": "6def673b",
   "metadata": {},
   "outputs": [],
   "source": []
  }
 ],
 "metadata": {
  "kernelspec": {
   "display_name": "Python 3 (ipykernel)",
   "language": "python",
   "name": "python3"
  },
  "language_info": {
   "codemirror_mode": {
    "name": "ipython",
    "version": 3
   },
   "file_extension": ".py",
   "mimetype": "text/x-python",
   "name": "python",
   "nbconvert_exporter": "python",
   "pygments_lexer": "ipython3",
   "version": "3.9.12"
  }
 },
 "nbformat": 4,
 "nbformat_minor": 5
}
